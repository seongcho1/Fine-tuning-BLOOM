{
  "nbformat": 4,
  "nbformat_minor": 0,
  "metadata": {
    "colab": {
      "provenance": [],
      "authorship_tag": "ABX9TyP5jK1SYyn/K6LDzf5W879A",
      "include_colab_link": true
    },
    "kernelspec": {
      "name": "python3",
      "display_name": "Python 3"
    },
    "language_info": {
      "name": "python"
    }
  },
  "cells": [
    {
      "cell_type": "markdown",
      "metadata": {
        "id": "view-in-github",
        "colab_type": "text"
      },
      "source": [
        "<a href=\"https://colab.research.google.com/github/seongcho1/Fine-tuning-BLOOM/blob/main/GenerAds_Deploy_with_Hugging_Face.ipynb\" target=\"_parent\"><img src=\"https://colab.research.google.com/assets/colab-badge.svg\" alt=\"Open In Colab\"/></a>"
      ]
    },
    {
      "cell_type": "markdown",
      "source": [
        "# Get started with your gradio Space!\n",
        "\n",
        "https://huggingface.co/spaces/seongcho/demo\n",
        "\n",
        "Your new space has been created, follow these steps to get started (or read our full documentation )\n",
        "\n",
        "## Start by cloning this repo by using:\n",
        "```\n",
        "git clone https://huggingface.co/spaces/seongcho/demo\n",
        "```\n",
        "## Create your Gradio app.py file:\n",
        "```\n",
        "import gradio as gr\n",
        "\n",
        "def greet(name):\n",
        "    return \"Hello \" + name + \"!!\"\n",
        "\n",
        "iface = gr.Interface(fn=greet, inputs=\"text\", outputs=\"text\")\n",
        "iface.launch()\n",
        "```\n",
        "\n",
        "## Then commit and push:\n",
        "```\n",
        "git add app.py\n",
        "git commit -m \"Add application file\"\n",
        "git push\n",
        "```\n",
        "(Hint: Create the app.py file right in your browser alternatively)\n",
        "\n",
        "🤗 Your app should be running on this page after a few moments !\n",
        "\n",
        "## Dependencies\n",
        "\n",
        "You can add a requirements.txt file at the root of the repository to specify Python dependencies\n",
        "\n",
        "If needed, you can add also add a packages.txt file at the root of the repository to specify Debian dependencies.\n",
        "\n",
        "The gradio package comes pre-installed at version latest\n",
        "\n",
        "## Documentation\n",
        "\n",
        "Check out the full documentation of gradio Spaces here\n",
        "\n",
        "## last touch\n",
        "\n",
        "copy app.py and requirements.txt from https://huggingface.co/spaces/FourthBrainGenAI/GenerAd-AI"
      ],
      "metadata": {
        "id": "YOKWMSjy42Uk"
      }
    },
    {
      "cell_type": "code",
      "source": [],
      "metadata": {
        "id": "2dWK6r9v41Pv"
      },
      "execution_count": null,
      "outputs": []
    }
  ]
}